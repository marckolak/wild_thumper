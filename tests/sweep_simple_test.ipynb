{
 "cells": [
  {
   "cell_type": "markdown",
   "metadata": {},
   "source": [
    "# Scanse Sweep Tests"
   ]
  },
  {
   "cell_type": "markdown",
   "metadata": {},
   "source": [
    "Simple test of Scanse Sweep:\n",
    "* create scanner and scan getter threads\n",
    "* gather 10 scans\n",
    "* extract scans into `numpy` arrays\n",
    "* plot a polar plot using `maptlotlib`"
   ]
  },
  {
   "cell_type": "code",
   "execution_count": null,
   "metadata": {},
   "outputs": [],
   "source": [
    "import numpy as np\n",
    "from sweeppy import Sweep\n",
    "from matplotlib import pyplot as plt\n",
    "import time\n",
    "import queue\n",
    "import threading\n",
    "import sys\n"
   ]
  },
  {
   "cell_type": "code",
   "execution_count": null,
   "metadata": {},
   "outputs": [],
   "source": [
    "def parse_scan(scan):\n",
    "    angle = []\n",
    "    distance = []\n",
    "    strength=[]\n",
    "    \n",
    "    for sample in scan.samples:\n",
    "        angle.append(sample.angle)\n",
    "        distance.append(sample.distance)\n",
    "        strength.append(sample.signal_strength )\n",
    "        \n",
    "    return np.array(angle), np.array(distance), np.array(strength)"
   ]
  },
  {
   "cell_type": "code",
   "execution_count": null,
   "metadata": {},
   "outputs": [],
   "source": [
    "class Scanner(threading.Thread):\n",
    "    \"\"\"\n",
    "    A Scanner thread gets scans fom the sensor and puts them into a FIFO queue\n",
    "    \"\"\"\n",
    "    def __init__(self, dev, queue, stop_criterion):\n",
    "        super().__init__()\n",
    "        self.dev = dev\n",
    "        self.queue = queue\n",
    "        self.counter = 0\n",
    "        self.stop_criterion = stop_criterion\n",
    "        \n",
    "    # Iterate over an infinite scan generator. Stop when asked to do so\n",
    "    def run(self):\n",
    "        with Sweep(self.dev) as sweep:\n",
    "            sweep.start_scanning()\n",
    "\n",
    "            for scan in sweep.get_scans():\n",
    "                if self.counter == self.stop_criterion:\n",
    "                    self.queue.put_nowait(None)\n",
    "                    print(\"gathered {} scans\".format(self.counter))\n",
    "                    break\n",
    "                else:\n",
    "                    self.queue.put_nowait(scan)\n",
    "                    self.counter += 1\n",
    "\n",
    "            sweep.stop_scanning()\n",
    "\n",
    "\n",
    "class ScanGetter(threading.Thread):\n",
    "    \"\"\"\n",
    "    ScanGetter extracts scans from the referenced queue.\n",
    "    \"\"\"\n",
    "    def __init__(self, queue):\n",
    "        super().__init__()\n",
    "        self.queue = queue\n",
    "        self.scans = []\n",
    "\n",
    "    # Iterate over the queue's scans blocking if the queue is\n",
    "    # empty. If the value in queue is None leave thread.\n",
    "\n",
    "    def run(self):\n",
    "        while True:\n",
    "            scan = self.queue.get()\n",
    "\n",
    "            if not scan:\n",
    "                break\n",
    "        \n",
    "            self.scans.append(scan)\n",
    "            \n",
    "            self.queue.task_done()"
   ]
  },
  {
   "cell_type": "code",
   "execution_count": null,
   "metadata": {},
   "outputs": [],
   "source": [
    "dev = 'COM3'\n",
    "\n",
    "fifo = queue.Queue()\n",
    "\n",
    "scanner = Scanner(dev, fifo, 10)\n",
    "counter = SampleCounter(fifo)\n",
    "\n",
    "scanner.start()\n",
    "counter.start()\n"
   ]
  },
  {
   "cell_type": "code",
   "execution_count": null,
   "metadata": {},
   "outputs": [],
   "source": [
    "angle = []\n",
    "distance = []\n",
    "for scan in counter.scans:\n",
    "    a,d, s = parse_scan(scan)\n",
    "    angle.append(a)\n",
    "    distance.append(d)\n",
    "\n",
    "angle = np.hstack(angle)\n",
    "distance = np.hstack(distance)"
   ]
  },
  {
   "cell_type": "code",
   "execution_count": null,
   "metadata": {},
   "outputs": [],
   "source": [
    "plt.figure(figsize=(8,8))\n",
    "plt.polar(np.radians(angle/1e3),distance, marker='.', linestyle='')"
   ]
  }
 ],
 "metadata": {
  "kernelspec": {
   "display_name": "Python 3",
   "language": "python",
   "name": "python3"
  },
  "language_info": {
   "codemirror_mode": {
    "name": "ipython",
    "version": 3
   },
   "file_extension": ".py",
   "mimetype": "text/x-python",
   "name": "python",
   "nbconvert_exporter": "python",
   "pygments_lexer": "ipython3",
   "version": "3.7.8"
  }
 },
 "nbformat": 4,
 "nbformat_minor": 4
}
