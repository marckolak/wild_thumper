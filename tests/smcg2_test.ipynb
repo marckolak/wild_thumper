{
 "cells": [
  {
   "cell_type": "markdown",
   "metadata": {},
   "source": [
    "# Motor controller tests"
   ]
  },
  {
   "cell_type": "code",
   "execution_count": null,
   "metadata": {},
   "outputs": [],
   "source": [
    "import numpy as np\n",
    "from matplotlib import pyplot as plt\n",
    "import time\n",
    "import serial\n",
    "import sys\n",
    "sys.path.append('../')\n",
    "\n",
    "%load_ext autoreload\n",
    "\n",
    "%autoreload 2\n",
    "from wild_thumper.smcg2 import open_port, SmcG2Serial"
   ]
  },
  {
   "cell_type": "code",
   "execution_count": null,
   "metadata": {},
   "outputs": [],
   "source": [
    "# Choose the serial port name.\n",
    "# Linux USB example:  \"/dev/ttyACM0\"  (see also: /dev/serial/by-id)\n",
    "# macOS USB example:  \"/dev/cu.usbmodem001234562\"\n",
    "# Windows example:    \"COM6\"\n",
    "port_name = \"COM4\"\n",
    " \n",
    "# Choose the baud rate (bits per second).  This does not matter if you are\n",
    "# connecting to the SMC over USB.  If you are connecting via the TX and RX\n",
    "# lines, this should match the baud rate in the SMC's serial settings.\n",
    "baud_rate = 9600\n",
    " \n",
    "# Change this to a number between 0 and 127 that matches the device number of\n",
    "# your SMC if there are multiple serial devices on the line and you want to\n",
    "# use the Pololu Protocol.\n",
    "device_number = None\n",
    " \n",
    "port = open_port(port_name)\n",
    "\n",
    "smc = SmcG2Serial(port, device_number)\n",
    " "
   ]
  },
  {
   "cell_type": "code",
   "execution_count": null,
   "metadata": {},
   "outputs": [],
   "source": [
    "smc.exit_safe_start()\n",
    " \n",
    "error_status = smc.get_error_status()\n",
    "print(\"Error status: 0x{:04X}\".format(error_status))"
   ]
  },
  {
   "cell_type": "code",
   "execution_count": null,
   "metadata": {},
   "outputs": [],
   "source": [
    "target_speed = smc.get_target_speed()\n",
    "print(\"Target speed is {}.\".format(target_speed))"
   ]
  },
  {
   "cell_type": "code",
   "execution_count": null,
   "metadata": {},
   "outputs": [],
   "source": [
    "new_speed = -0.0\n",
    "print(\"Setting target speed to {}.\\n\".format(new_speed));\n",
    "smc.set_target_speed(new_speed)"
   ]
  },
  {
   "cell_type": "code",
   "execution_count": null,
   "metadata": {},
   "outputs": [],
   "source": [
    "port.close()"
   ]
  },
  {
   "cell_type": "code",
   "execution_count": null,
   "metadata": {},
   "outputs": [],
   "source": []
  }
 ],
 "metadata": {
  "kernelspec": {
   "display_name": "Python 3",
   "language": "python",
   "name": "python3"
  },
  "language_info": {
   "codemirror_mode": {
    "name": "ipython",
    "version": 3
   },
   "file_extension": ".py",
   "mimetype": "text/x-python",
   "name": "python",
   "nbconvert_exporter": "python",
   "pygments_lexer": "ipython3",
   "version": "3.7.8"
  }
 },
 "nbformat": 4,
 "nbformat_minor": 4
}
