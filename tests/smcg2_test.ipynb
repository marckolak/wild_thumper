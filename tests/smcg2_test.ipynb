{
 "cells": [
  {
   "cell_type": "markdown",
   "metadata": {},
   "source": [
    "# Motor controller tests"
   ]
  },
  {
   "cell_type": "code",
   "execution_count": null,
   "metadata": {},
   "outputs": [],
   "source": [
    "import numpy as np\n",
    "from matplotlib import pyplot as plt\n",
    "import time\n",
    "import serial"
   ]
  },
  {
   "cell_type": "code",
   "execution_count": null,
   "metadata": {},
   "outputs": [],
   "source": [
    "# taken from Pololu documentation\n",
    "\n",
    "class SmcG2Serial(object):\n",
    "  def __init__(self, port, device_number=None):\n",
    "    self.port = port\n",
    "    self.device_number = device_number\n",
    " \n",
    "  def send_command(self, cmd, *data_bytes):\n",
    "    if self.device_number == None:\n",
    "      header = [cmd]  # Compact protocol\n",
    "    else:\n",
    "      header = [0xAA, device_number, cmd & 0x7F]  # Pololu protocol\n",
    "    self.port.write(bytes(header + list(data_bytes)))\n",
    " \n",
    "  # Sends the Exit Safe Start command, which is required to drive the motor.\n",
    "  def exit_safe_start(self):\n",
    "    self.send_command(0x83)\n",
    " \n",
    "  # Sets the SMC's target speed (-3200 to 3200).\n",
    "  def set_target_speed(self, speed):\n",
    "    cmd = 0x85  # Motor forward\n",
    "    if speed < 0:\n",
    "      cmd = 0x86  # Motor reverse\n",
    "      speed = -speed\n",
    "    self.send_command(cmd, speed & 0x1F, speed >> 5 & 0x7F)\n",
    " \n",
    "  # Gets the specified variable as an unsigned value.\n",
    "  def get_variable(self, id):\n",
    "    self.send_command(0xA1, id)\n",
    "    result = self.port.read(2)\n",
    "    if len(result) != 2:\n",
    "      raise RuntimeError(\"Expected to read 2 bytes, got {}.\"\n",
    "        .format(len(result)))\n",
    "    b = bytearray(result)\n",
    "    return b[0] + 256 * b[1]\n",
    " \n",
    "  # Gets the specified variable as a signed value.\n",
    "  def get_variable_signed(self, id):\n",
    "    value = self.get_variable(id)\n",
    "    if value >= 0x8000:\n",
    "      value -= 0x10000\n",
    "    return value\n",
    " \n",
    "  # Gets the target speed (-3200 to 3200).\n",
    "  def get_target_speed(self):\n",
    "    return self.get_variable_signed(20)\n",
    " \n",
    "  # Gets a number where each bit represents a different error, and the\n",
    "  # bit is 1 if the error is currently active.\n",
    "  # See the user's guide for definitions of the different error bits.\n",
    "  def get_error_status(self):\n",
    "    return self.get_variable(0)"
   ]
  },
  {
   "cell_type": "code",
   "execution_count": null,
   "metadata": {},
   "outputs": [],
   "source": [
    "# Choose the serial port name.\n",
    "# Linux USB example:  \"/dev/ttyACM0\"  (see also: /dev/serial/by-id)\n",
    "# macOS USB example:  \"/dev/cu.usbmodem001234562\"\n",
    "# Windows example:    \"COM6\"\n",
    "port_name = \"COM5\"\n",
    " \n",
    "# Choose the baud rate (bits per second).  This does not matter if you are\n",
    "# connecting to the SMC over USB.  If you are connecting via the TX and RX\n",
    "# lines, this should match the baud rate in the SMC's serial settings.\n",
    "baud_rate = 9600\n",
    " \n",
    "# Change this to a number between 0 and 127 that matches the device number of\n",
    "# your SMC if there are multiple serial devices on the line and you want to\n",
    "# use the Pololu Protocol.\n",
    "device_number = None\n",
    " \n",
    "port = serial.Serial(port_name, timeout=0.1, write_timeout=0.1)\n",
    "print(port.name)  \n",
    "smc = SmcG2Serial(port, device_number)new_speed = 3200 if target_speed <= 0 else -3200\n",
    "# print(\"Setting target speed to {}.\\n\".format(new_speed));\n",
    "# smc.set_target_speed(new_speed)\n",
    " "
   ]
  },
  {
   "cell_type": "code",
   "execution_count": null,
   "metadata": {},
   "outputs": [],
   "source": [
    "smc.exit_safe_start()\n",
    " \n",
    "error_status = smc.get_error_status()\n",
    "print(\"Error status: 0x{:04X}\".format(error_status))\n",
    "print(\"Error status: 0x{}\".format(error_status))"
   ]
  },
  {
   "cell_type": "code",
   "execution_count": null,
   "metadata": {},
   "outputs": [],
   "source": [
    "target_speed = smc.get_target_speed()\n",
    "print(\"Target speed is {}.\".format(target_speed))"
   ]
  },
  {
   "cell_type": "code",
   "execution_count": null,
   "metadata": {},
   "outputs": [],
   "source": [
    "new_speed = 300\n",
    "print(\"Setting target speed to {}.\\n\".format(new_speed));\n",
    "smc.set_target_speed(new_speed)"
   ]
  },
  {
   "cell_type": "code",
   "execution_count": null,
   "metadata": {},
   "outputs": [],
   "source": [
    "port.close()"
   ]
  }
 ],
 "metadata": {
  "kernelspec": {
   "display_name": "Python 3",
   "language": "python",
   "name": "python3"
  },
  "language_info": {
   "codemirror_mode": {
    "name": "ipython",
    "version": 3
   },
   "file_extension": ".py",
   "mimetype": "text/x-python",
   "name": "python",
   "nbconvert_exporter": "python",
   "pygments_lexer": "ipython3",
   "version": "3.7.8"
  }
 },
 "nbformat": 4,
 "nbformat_minor": 4
}
